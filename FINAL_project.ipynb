{
 "cells": [
  {
   "cell_type": "markdown",
   "metadata": {},
   "source": [
    "# Final project\n",
    "\n",
    "**Can you escape a velociraptor?**\n",
    "\n",
    "Your goal is to figure out whether or not a velociraptor will catch you or if you can outrun it!\n",
    "\n",
    "## Problem 1. Position vs. time\n",
    "\n",
    "Suppose a velociraptor can run 18 m/s. And suppose you can run at 3 m/s, but you have a 30 meter head start. Assume that you and the 'raptor accelerate so quickly that you can ignore acceleration. \n",
    "\n",
    "Make a plot of the position vs. time for both you and the 'raptor (plot both on the same figure). Clearly label all axes and give the plot a legend. Plot over a suitable time frame. Save the figure as a .png file. \n",
    "\n",
    "*This plot will be included in your write-up*."
   ]
  },
  {
   "cell_type": "code",
   "execution_count": 214,
   "metadata": {
    "collapsed": false
   },
   "outputs": [
    {
     "data": {
      "image/png": "[encoded data removed]",
      "text/plain": [
       "<matplotlib.figure.Figure at 0x10580d3d0>"
      ]
     },
     "metadata": {},
     "output_type": "display_data"
    }
   ],
   "source": [
    "import matplotlib.pylab as plt\n",
    "%matplotlib inline\n",
    "xi = 30 #m\n",
    "vi = 3 #m/s\n",
    "\n",
    "t = [i for i in range(0,1000)]\n",
    "\n",
    "for i in range(len(t)):\n",
    "    t[i] /= 100.0\n",
    "    \n",
    "xh = []\n",
    "\n",
    "for i in t:\n",
    "    z = xi + vi*(i)\n",
    "    xh.append(z)\n",
    "    \n",
    "xr = []\n",
    "xir = 0 #m\n",
    "vir = 18 #m/s\n",
    "for i in t:\n",
    "    j = xir + vir*(i)\n",
    "    xr.append(j)\n",
    "\n",
    "\n",
    "plt.plot(t,xh,'r',label='Human')\n",
    "plt.xlabel('Time (s)',fontsize=12)\n",
    "plt.ylabel('Position (m)',fontsize=12)\n",
    "\n",
    "plt.plot(t,xr,'b',label='Raptor')\n",
    "\n",
    "plt.legend()\n",
    "#plt.ylim(0,100)\n",
    "#plt.xlim(0,10)\n",
    "plt.savefig('RaptorvHuman_Finnegan.png')"
   ]
  },
  {
   "cell_type": "markdown",
   "metadata": {},
   "source": [
    "## Problem 2. When does the 'raptor catch up to you?\n",
    "\n",
    "Use your code to figure out when the raptor catches up to you. Both how much time has passed and how far *you* have run.  \n",
    "\n",
    "Do not just get this information off the graph. Use your Python code to figure this out! Getting the information just by looking at the plot will result in a 0 for this question. You can use an analytic approach (algebra) to check your answer, but that is not the approach I want you to use. Depending on how you write your code, you might not get an *exact* answer, but you should find a way to get pretty close to the algebraic solution. "
   ]
  },
  {
   "cell_type": "code",
   "execution_count": 144,
   "metadata": {
    "collapsed": false
   },
   "outputs": [
    {
     "name": "stdout",
     "output_type": "stream",
     "text": [
      "At 36.000000 meters\n",
      "they meet at 2.000000 seconds\n",
      "2.0\n",
      "200\n"
     ]
    }
   ],
   "source": [
    "for i in t:\n",
    "    j = int(i*100)\n",
    "    if xr[j] == xh[j]:\n",
    "        print \"At %f meters\" % (xr[j])\n",
    "        print \"they meet at %f seconds\" % (i)\n",
    "        print i\n",
    "        print j\n",
    "        break"
   ]
  },
  {
   "cell_type": "markdown",
   "metadata": {},
   "source": [
    "## Problem 3. When is it close enough to strike?\n",
    "\n",
    "It turns out the 'raptor will start trying to attack when it is 1 meter away. How much time has passed and how far have you run when it is 1 meter behind you? Use a similar approach as the last problem. \n",
    "\n",
    "***Also make a new copy of the above plot, but label (with a line or arrow or whatever you want) the point at which the raptor is 1 meter behind you.***"
   ]
  },
  {
   "cell_type": "code",
   "execution_count": 213,
   "metadata": {
    "collapsed": false
   },
   "outputs": [
    {
     "name": "stdout",
     "output_type": "stream",
     "text": [
      "34.92\n",
      "35.82\n",
      "The raptor is about 1 meter away at 1.940000 seconds\n",
      "Human has run 5.820000 meters.\n"
     ]
    },
    {
     "data": {
      "image/png": "[encoded data removed]",
      "text/plain": [
       "<matplotlib.figure.Figure at 0x105d2d210>"
      ]
     },
     "metadata": {},
     "output_type": "display_data"
    }
   ],
   "source": [
    "for i in t:\n",
    "    j = int(i*100)\n",
    "    if xh[j] - xr[j] <= 1:\n",
    "        print xr[j]\n",
    "        print xh[j]\n",
    "        print \"The raptor is about 1 meter away at %f seconds\" % (i)\n",
    "        print \"Human has run %f meters.\" % (xh[j]-xi)\n",
    "        break\n",
    "        \n",
    "plt.plot(t,xh,'r',label='Human Speeds')\n",
    "plt.xlabel('Time (s)',fontsize=12)\n",
    "plt.ylabel('Position (m)',fontsize=12)\n",
    "plt.plot(t,xr,'b',label='Raptor Speeds')\n",
    "plt.arrow(i,51,0,-10.0,head_width = .12,head_length=4)\n",
    "plt.savefig('RaptorvHuman_Finnegan_arrow.png')"
   ]
  },
  {
   "cell_type": "markdown",
   "metadata": {},
   "source": [
    "## Problem 4. Will it bite you?\n",
    "\n",
    "When the 'raptor is 1 meter away, it will try to bite you. If it doesn't bite you, it will try a second and (if necessary) a third time. If it doesn't get you on the third try, it will grow frustrated and stop chasing you. Hurray!\n",
    "\n",
    "Suppose the first time it tries, there is a 20% chance it will bite you. If it misses and it needs to try a second time, there is only a 15% chance, and if it misses *that* time, there is only a 7% chance on the third try. \n",
    "\n",
    "If it bites you once, you're 'raptor food. If it misses all three times, you get away!\n",
    "\n",
    "What is the probability that you will get away?\n"
   ]
  },
  {
   "cell_type": "code",
   "execution_count": 223,
   "metadata": {
    "collapsed": false
   },
   "outputs": [
    {
     "name": "stdout",
     "output_type": "stream",
     "text": [
      "Human has a 63.000000 percent chance of survival.\n"
     ]
    }
   ],
   "source": [
    "import numpy as np\n",
    "#npts = 1000\n",
    "def raptor():\n",
    "    bite1 = np.random.randint(100)  # 100 random integers that are added up to make bite1,2,3\n",
    "    bite2 = np.random.randint(100)\n",
    "    bite3 = np.random.randint(100)\n",
    "    if bite1 < 20:                  \n",
    "        return \"Dead\"\n",
    "    elif bite2 < 15:\n",
    "        return \"Dead\"\n",
    "    elif bite3 < 7:\n",
    "        return \"Dead\"\n",
    "    else:\n",
    "        return \"Live\"\n",
    "die = 0\n",
    "live = 0\n",
    "\n",
    "for i in range(0,1000):\n",
    "    #i += 1\n",
    "    gotbit = raptor()\n",
    "    if gotbit == \"Dead\":\n",
    "        die += 1\n",
    "    #if raptor() == \"Dead\":\n",
    "        #die += 1\n",
    "    elif gotbit == \"Live\":\n",
    "        live += 1\n",
    "chance = (live/float(1000))*100\n",
    "print \"Human has a %f percent chance of survival.\" % (round(chance))\n",
    "\n",
    "    \n",
    "    \n",
    "\n",
    "# Maddy, Fred, and my friend Victoria (who is also in a computer science class) helped me\n",
    "# work through and figure out what I had to do. "
   ]
  },
  {
   "cell_type": "code",
   "execution_count": null,
   "metadata": {
    "collapsed": true
   },
   "outputs": [],
   "source": []
  }
 ],
 "metadata": {
  "kernelspec": {
   "display_name": "Python 2",
   "language": "python",
   "name": "python2"
  },
  "language_info": {
   "codemirror_mode": {
    "name": "ipython",
    "version": 2
   },
   "file_extension": ".py",
   "mimetype": "text/x-python",
   "name": "python",
   "nbconvert_exporter": "python",
   "pygments_lexer": "ipython2",
   "version": "2.7.10"
  }
 },
 "nbformat": 4,
 "nbformat_minor": 0
}
